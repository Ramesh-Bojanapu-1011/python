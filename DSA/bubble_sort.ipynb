{
 "cells": [
  {
   "cell_type": "code",
   "execution_count": 1,
   "metadata": {},
   "outputs": [
    {
     "name": "stdout",
     "output_type": "stream",
     "text": [
      "[64, 34, 25, 12, 22, 11, 90, 5]\n"
     ]
    }
   ],
   "source": [
    "# Set the array to a specific value\n",
    "my_array = [64, 34, 25, 12, 22, 11, 90, 5]\n",
    "print(my_array)  "
   ]
  },
  {
   "cell_type": "code",
   "execution_count": 2,
   "metadata": {},
   "outputs": [
    {
     "name": "stdout",
     "output_type": "stream",
     "text": [
      "Swapped 34 and 64\n",
      "Array after swap: [34, 64, 25, 12, 22, 11, 90, 5]\n",
      "Swapped 25 and 64\n",
      "Array after swap: [34, 25, 64, 12, 22, 11, 90, 5]\n",
      "Swapped 12 and 64\n",
      "Array after swap: [34, 25, 12, 64, 22, 11, 90, 5]\n",
      "Swapped 22 and 64\n",
      "Array after swap: [34, 25, 12, 22, 64, 11, 90, 5]\n",
      "Swapped 11 and 64\n",
      "Array after swap: [34, 25, 12, 22, 11, 64, 90, 5]\n",
      "No swap needed for 64 and 90\n",
      "Swapped 5 and 90\n",
      "Array after swap: [34, 25, 12, 22, 11, 64, 5, 90]\n",
      "Array after pass 1: [34, 25, 12, 22, 11, 64, 5, 90]\n",
      "Swapped 25 and 34\n",
      "Array after swap: [25, 34, 12, 22, 11, 64, 5, 90]\n",
      "Swapped 12 and 34\n",
      "Array after swap: [25, 12, 34, 22, 11, 64, 5, 90]\n",
      "Swapped 22 and 34\n",
      "Array after swap: [25, 12, 22, 34, 11, 64, 5, 90]\n",
      "Swapped 11 and 34\n",
      "Array after swap: [25, 12, 22, 11, 34, 64, 5, 90]\n",
      "No swap needed for 34 and 64\n",
      "Swapped 5 and 64\n",
      "Array after swap: [25, 12, 22, 11, 34, 5, 64, 90]\n",
      "Array after pass 2: [25, 12, 22, 11, 34, 5, 64, 90]\n",
      "Swapped 12 and 25\n",
      "Array after swap: [12, 25, 22, 11, 34, 5, 64, 90]\n",
      "Swapped 22 and 25\n",
      "Array after swap: [12, 22, 25, 11, 34, 5, 64, 90]\n",
      "Swapped 11 and 25\n",
      "Array after swap: [12, 22, 11, 25, 34, 5, 64, 90]\n",
      "No swap needed for 25 and 34\n",
      "Swapped 5 and 34\n",
      "Array after swap: [12, 22, 11, 25, 5, 34, 64, 90]\n",
      "Array after pass 3: [12, 22, 11, 25, 5, 34, 64, 90]\n",
      "No swap needed for 12 and 22\n",
      "Swapped 11 and 22\n",
      "Array after swap: [12, 11, 22, 25, 5, 34, 64, 90]\n",
      "No swap needed for 22 and 25\n",
      "Swapped 5 and 25\n",
      "Array after swap: [12, 11, 22, 5, 25, 34, 64, 90]\n",
      "Array after pass 4: [12, 11, 22, 5, 25, 34, 64, 90]\n",
      "Swapped 11 and 12\n",
      "Array after swap: [11, 12, 22, 5, 25, 34, 64, 90]\n",
      "No swap needed for 12 and 22\n",
      "Swapped 5 and 22\n",
      "Array after swap: [11, 12, 5, 22, 25, 34, 64, 90]\n",
      "Array after pass 5: [11, 12, 5, 22, 25, 34, 64, 90]\n",
      "No swap needed for 11 and 12\n",
      "Swapped 5 and 12\n",
      "Array after swap: [11, 5, 12, 22, 25, 34, 64, 90]\n",
      "Array after pass 6: [11, 5, 12, 22, 25, 34, 64, 90]\n",
      "Swapped 5 and 11\n",
      "Array after swap: [5, 11, 12, 22, 25, 34, 64, 90]\n",
      "Array after pass 7: [5, 11, 12, 22, 25, 34, 64, 90]\n",
      "Sorted array: [5, 11, 12, 22, 25, 34, 64, 90]\n"
     ]
    }
   ],
   "source": [
    "# Go through the array, one value at a time.\n",
    "# For each value, compare the value with the next value.\n",
    "# If the value is higher than the next one, swap the values so that the highest value comes last.\n",
    "# Go through the array as many times as there are values in the array.\n",
    "for i in range((len(my_array))-1):\n",
    "    for j in range(len(my_array)-1-i):\n",
    "        if my_array[j] > my_array[j+1]:\n",
    "            # swap\n",
    "            my_array[j], my_array[j+1] = my_array[j+1], my_array[j]\n",
    "            print(f'Swapped {my_array[j]} and {my_array[j+1]}')\n",
    "            print(f'Array after swap: {my_array}')\n",
    "        else:\n",
    "            print(f'No swap needed for {my_array[j]} and {my_array[j+1]}')\n",
    "    print(f'Array after pass {i+1}: {my_array}')\n",
    "print(f'Sorted array: {my_array}')  # Output: [5, 11, 12, 22, 25, 34, 64, 90]\n"
   ]
  }
 ],
 "metadata": {
  "kernelspec": {
   "display_name": ".venv",
   "language": "python",
   "name": "python3"
  },
  "language_info": {
   "codemirror_mode": {
    "name": "ipython",
    "version": 3
   },
   "file_extension": ".py",
   "mimetype": "text/x-python",
   "name": "python",
   "nbconvert_exporter": "python",
   "pygments_lexer": "ipython3",
   "version": "3.13.3"
  },
  "orig_nbformat": 4
 },
 "nbformat": 4,
 "nbformat_minor": 2
}
