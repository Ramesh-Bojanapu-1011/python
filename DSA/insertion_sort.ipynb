{
 "cells": [
  {
   "cell_type": "code",
   "execution_count": 1,
   "metadata": {},
   "outputs": [
    {
     "name": "stdout",
     "output_type": "stream",
     "text": [
      "[64, 34, 25, 12, 22, 11, 90, 5]\n"
     ]
    }
   ],
   "source": [
    "# Set the array to a specific value\n",
    "my_array = [64, 34, 25, 12, 22, 11, 90, 5]\n",
    "print(my_array)"
   ]
  },
  {
   "cell_type": "code",
   "execution_count": 2,
   "metadata": {},
   "outputs": [
    {
     "name": "stdout",
     "output_type": "stream",
     "text": [
      "Sorted array is: [5, 11, 12, 22, 25, 34, 64, 90]\n"
     ]
    }
   ],
   "source": [
    "# Take the first value from the unsorted part of the array.\n",
    "# Move the value into the correct place in the sorted part of the array.\n",
    "# Go through the unsorted part of the array again as many times as there are values.\n",
    "for i in range(1, len(my_array)):\n",
    "    key = my_array[i]\n",
    "    j = i - 1\n",
    "    # Move elements of my_array[0..i-1], that are greater than key,\n",
    "    # to one position ahead of their current position\n",
    "    while j >= 0 and key < my_array[j]:\n",
    "        # Move the element to the right\n",
    "        # to make space for the key value\n",
    "        my_array[j + 1] = my_array[j]\n",
    "        j -= 1\n",
    "    my_array[j + 1] = key\n",
    "print(\"Sorted array is:\", my_array)"
   ]
  }
 ],
 "metadata": {
  "kernelspec": {
   "display_name": ".venv",
   "language": "python",
   "name": "python3"
  },
  "language_info": {
   "codemirror_mode": {
    "name": "ipython",
    "version": 3
   },
   "file_extension": ".py",
   "mimetype": "text/x-python",
   "name": "python",
   "nbconvert_exporter": "python",
   "pygments_lexer": "ipython3",
   "version": "3.13.3"
  },
  "orig_nbformat": 4
 },
 "nbformat": 4,
 "nbformat_minor": 2
}
