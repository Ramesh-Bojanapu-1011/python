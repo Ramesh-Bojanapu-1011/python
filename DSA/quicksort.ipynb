{
 "cells": [
  {
   "cell_type": "code",
   "execution_count": 1,
   "id": "2d3c660e",
   "metadata": {},
   "outputs": [
    {
     "name": "stdout",
     "output_type": "stream",
     "text": [
      "[64, 34, 25, 12, 22, 11, 90, 5]\n"
     ]
    }
   ],
   "source": [
    "# Set the array to a specific value\n",
    "arr = [64, 34, 25, 12, 22, 11, 90, 5]\n",
    "print(arr)  # Output: [64, 34, 25, 12, 22, 11, 90, 5]"
   ]
  },
  {
   "cell_type": "code",
   "execution_count": 2,
   "id": "3d0511dc",
   "metadata": {},
   "outputs": [],
   "source": [
    "# Choose a value in the array to be the pivot element.\n",
    "# Order the rest of the array so that lower values than the pivot element are on the left, and higher values are on the right.\n",
    "# Swap the pivot element with the first element of the higher values so that the pivot element lands in between the lower and higher values.\n",
    "# Do the same operations (recursively) for the sub-arrays on the left and right side of the pivot element.\n",
    "def partition(arr, low, high):\n",
    "    pivot = arr[high]\n",
    "    i = low - 1\n",
    "    for j in range(low, high):\n",
    "        if arr[j] < pivot:\n",
    "            i += 1\n",
    "            arr[i], arr[j] = arr[j], arr[i]\n",
    "    arr[i + 1], arr[high] = arr[high], arr[i + 1]\n",
    "    return i + 1\n",
    "\n",
    "def quicksort(arr, low, high):\n",
    "    if low < high:\n",
    "        pi = partition(arr, low, high)\n",
    "        quicksort(arr, low, pi - 1)\n",
    "        quicksort(arr, pi + 1, high)"
   ]
  },
  {
   "cell_type": "code",
   "execution_count": 3,
   "id": "6e536391",
   "metadata": {},
   "outputs": [
    {
     "name": "stdout",
     "output_type": "stream",
     "text": [
      "Sorted array: [5, 11, 12, 22, 25, 34, 64, 90]\n"
     ]
    }
   ],
   "source": [
    "# Example usage\n",
    "quicksort(arr, 0, len(arr) - 1)\n",
    "print(\"Sorted array:\", arr)  # Output: Sorted array: [5, 11, 12, 22, 25, 34, 64, 90]\n",
    "# The array is now sorted in ascending order.   \n",
    "# The quicksort algorithm is efficient for large datasets and has an average time complexity of O(n log n)."
   ]
  }
 ],
 "metadata": {
  "kernelspec": {
   "display_name": ".venv",
   "language": "python",
   "name": "python3"
  },
  "language_info": {
   "codemirror_mode": {
    "name": "ipython",
    "version": 3
   },
   "file_extension": ".py",
   "mimetype": "text/x-python",
   "name": "python",
   "nbconvert_exporter": "python",
   "pygments_lexer": "ipython3",
   "version": "3.13.3"
  }
 },
 "nbformat": 4,
 "nbformat_minor": 5
}
