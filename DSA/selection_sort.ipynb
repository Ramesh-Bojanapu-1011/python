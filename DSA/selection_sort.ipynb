{
 "cells": [
  {
   "cell_type": "code",
   "execution_count": 12,
   "metadata": {},
   "outputs": [
    {
     "name": "stdout",
     "output_type": "stream",
     "text": [
      "[64, 34, 25, 12, 22, 11, 90, 5]\n"
     ]
    }
   ],
   "source": [
    "# Set the array to a specific value\n",
    "arr = [64, 34, 25, 12, 22, 11, 90, 5]\n",
    "print(arr)  # Output: [64, 34, 25, 12, 22, 11, 90, 5]"
   ]
  },
  {
   "cell_type": "code",
   "execution_count": 13,
   "metadata": {},
   "outputs": [
    {
     "name": "stdout",
     "output_type": "stream",
     "text": [
      "Current minimum: 5 at index 7\n",
      "Swapped 64 and 5\n",
      "Array after swap: [5, 34, 25, 12, 22, 11, 90, 64]\n",
      "Current minimum: 11 at index 5\n",
      "Swapped 34 and 11\n",
      "Array after swap: [5, 11, 25, 12, 22, 34, 90, 64]\n",
      "Current minimum: 12 at index 3\n",
      "Swapped 25 and 12\n",
      "Array after swap: [5, 11, 12, 25, 22, 34, 90, 64]\n",
      "Current minimum: 22 at index 4\n",
      "Swapped 25 and 22\n",
      "Array after swap: [5, 11, 12, 22, 25, 34, 90, 64]\n",
      "Current minimum: 25 at index 4\n",
      "Swapped 25 and 25\n",
      "Array after swap: [5, 11, 12, 22, 25, 34, 90, 64]\n",
      "Current minimum: 34 at index 5\n",
      "Swapped 34 and 34\n",
      "Array after swap: [5, 11, 12, 22, 25, 34, 90, 64]\n",
      "Current minimum: 64 at index 7\n",
      "Swapped 90 and 64\n",
      "Array after swap: [5, 11, 12, 22, 25, 34, 64, 90]\n",
      "Current minimum: 90 at index 7\n",
      "Swapped 90 and 90\n",
      "Array after swap: [5, 11, 12, 22, 25, 34, 64, 90]\n",
      "[5, 11, 12, 22, 25, 34, 64, 90]\n"
     ]
    }
   ],
   "source": [
    "# Go through the array to find the lowest value.\n",
    "# Move the lowest value to the front of the unsorted part of the array.\n",
    "# Go through the array again as many times as there are values in the array.\n",
    "for i in range(len(arr)):\n",
    "    # Assume the first element is the minimum\n",
    "    min_index = i\n",
    "    # Compare the assumed minimum with the rest of the array\n",
    "    for j in range(i + 1, len(arr)):\n",
    "        if arr[j] < arr[min_index]:\n",
    "            min_index = j\n",
    "    # Print the current minimum value and its index\n",
    "    print(f'Current minimum: {arr[min_index]} at index {min_index}')\n",
    "    # Swap the found minimum element with the first element of the unsorted part\n",
    "    arr[i], arr[min_index] = arr[min_index], arr[i]\n",
    "    print(f'Swapped {arr[min_index]} and {arr[i]}')\n",
    "    # Print the array after each swap to visualize the sorting process\n",
    "    print(f'Array after swap: {arr}') \n",
    "    \n",
    "# The sorted array is now in place.\n",
    "print(arr)  # Output: [5, 11, 12, 22, 25, 34, 64, 90]\n",
    "# The array is sorted in ascending order."
   ]
  }
 ],
 "metadata": {
  "kernelspec": {
   "display_name": ".venv",
   "language": "python",
   "name": "python3"
  },
  "language_info": {
   "codemirror_mode": {
    "name": "ipython",
    "version": 3
   },
   "file_extension": ".py",
   "mimetype": "text/x-python",
   "name": "python",
   "nbconvert_exporter": "python",
   "pygments_lexer": "ipython3",
   "version": "3.13.3"
  },
  "orig_nbformat": 4
 },
 "nbformat": 4,
 "nbformat_minor": 2
}
