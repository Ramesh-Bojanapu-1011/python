{
 "cells": [
  {
   "cell_type": "code",
   "execution_count": null,
   "id": "4d1d0157",
   "metadata": {},
   "outputs": [
    {
     "name": "stdout",
     "output_type": "stream",
     "text": [
      "[7, 12, 9, 4, 11]\n"
     ]
    }
   ],
   "source": [
    "# Set the array to a specific value\n",
    "my_array = [7, 12, 9, 4, 11]\n",
    "print(my_array)  "
   ]
  },
  {
   "cell_type": "code",
   "execution_count": 2,
   "id": "73bc5d91",
   "metadata": {},
   "outputs": [
    {
     "name": "stdout",
     "output_type": "stream",
     "text": [
      "lowest number in the array: 4\n"
     ]
    }
   ],
   "source": [
    "# find lowest number in the array\n",
    "lowest = my_array[0]\n",
    "for i in my_array:\n",
    "    if i < lowest:\n",
    "        lowest = i\n",
    "print(\"lowest number in the array:\",lowest)  # Output: 4"
   ]
  },
  {
   "cell_type": "code",
   "execution_count": 3,
   "id": "13be00e5",
   "metadata": {},
   "outputs": [
    {
     "name": "stdout",
     "output_type": "stream",
     "text": [
      "highest number in the array: 12\n"
     ]
    }
   ],
   "source": [
    "# find highest number in the array\n",
    "highest = my_array[0]\n",
    "for i in my_array:\n",
    "    if i > highest:\n",
    "        highest = i\n",
    "print(\"highest number in the array:\",highest)  # Output: 12"
   ]
  },
  {
   "cell_type": "code",
   "execution_count": 4,
   "id": "a3ab82a7",
   "metadata": {},
   "outputs": [
    {
     "name": "stdout",
     "output_type": "stream",
     "text": [
      "Sorted array in ascending order: [4, 7, 9, 11, 12]\n"
     ]
    }
   ],
   "source": [
    "# sort the array in ascending order\n",
    "my_array.sort()\n",
    "print(\"Sorted array in ascending order:\", my_array)  # Output: [4, 7, 9, 11, 12]"
   ]
  },
  {
   "cell_type": "code",
   "execution_count": 5,
   "id": "381f6da3",
   "metadata": {},
   "outputs": [
    {
     "name": "stdout",
     "output_type": "stream",
     "text": [
      "Sorted array in descending order: [12, 11, 9, 7, 4]\n"
     ]
    }
   ],
   "source": [
    "print(\"Sorted array in descending order:\", my_array[::-1])  # Output: [12, 11, 9, 7, 4]"
   ]
  }
 ],
 "metadata": {
  "kernelspec": {
   "display_name": ".venv",
   "language": "python",
   "name": "python3"
  },
  "language_info": {
   "codemirror_mode": {
    "name": "ipython",
    "version": 3
   },
   "file_extension": ".py",
   "mimetype": "text/x-python",
   "name": "python",
   "nbconvert_exporter": "python",
   "pygments_lexer": "ipython3",
   "version": "3.13.3"
  }
 },
 "nbformat": 4,
 "nbformat_minor": 5
}
