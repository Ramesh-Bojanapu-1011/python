{
 "cells": [
  {
   "cell_type": "code",
   "execution_count": 1,
   "metadata": {},
   "outputs": [],
   "source": [
    "def print_pattern(n):\n",
    "    \"\"\"\n",
    "    Prints the pattern based on the given input 'n'.\n",
    "\n",
    "    Args:\n",
    "        n: The input value to determine the pattern.\n",
    "    \"\"\"\n",
    "    for i in range(1, n + 1):\n",
    "        for j in range(1, n + 1):\n",
    "            if j >= i:\n",
    "                print(j, end=\" \")\n",
    "            else:\n",
    "                print(\" \", end=\" \")\n",
    "                \n",
    "                \n",
    "        print()\n",
    "\n"
   ]
  },
  {
   "cell_type": "code",
   "execution_count": 2,
   "metadata": {},
   "outputs": [
    {
     "name": "stdout",
     "output_type": "stream",
     "text": [
      "1 2 3 4 5 6 \n",
      "  2 3 4 5 6 \n",
      "    3 4 5 6 \n",
      "      4 5 6 \n",
      "        5 6 \n",
      "          6 \n"
     ]
    }
   ],
   "source": [
    "n = int(input(\"Enter the value of n: \"))\n",
    "print_pattern(n)"
   ]
  }
 ],
 "metadata": {
  "kernelspec": {
   "display_name": ".venv",
   "language": "python",
   "name": "python3"
  },
  "language_info": {
   "codemirror_mode": {
    "name": "ipython",
    "version": 3
   },
   "file_extension": ".py",
   "mimetype": "text/x-python",
   "name": "python",
   "nbconvert_exporter": "python",
   "pygments_lexer": "ipython3",
   "version": "3.13.3"
  }
 },
 "nbformat": 4,
 "nbformat_minor": 2
}
