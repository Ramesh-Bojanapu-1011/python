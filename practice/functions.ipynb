{
 "cells": [
  {
   "cell_type": "code",
   "execution_count": 8,
   "metadata": {},
   "outputs": [
    {
     "name": "stdout",
     "output_type": "stream",
     "text": [
      "Accessing Global V:  10\n",
      "Accessing Local V:  30\n",
      "Calling Local V:  30\n"
     ]
    }
   ],
   "source": [
    "x = 10\n",
    "print(\"Accessing Global V: \", x)\n",
    "def d1():\n",
    " global x\n",
    " x = 30\n",
    " print(\"Accessing Local V: \", x)\n",
    "d1()\n",
    "print('Calling Local V: ', x)"
   ]
  }
 ],
 "metadata": {
  "kernelspec": {
   "display_name": ".venv",
   "language": "python",
   "name": "python3"
  },
  "language_info": {
   "codemirror_mode": {
    "name": "ipython",
    "version": 3
   },
   "file_extension": ".py",
   "mimetype": "text/x-python",
   "name": "python",
   "nbconvert_exporter": "python",
   "pygments_lexer": "ipython3",
   "version": "3.13.3"
  },
  "orig_nbformat": 4
 },
 "nbformat": 4,
 "nbformat_minor": 2
}
